{
 "cells": [
  {
   "cell_type": "code",
   "execution_count": 37,
   "id": "7ab665d6-9774-4e8e-a693-83f9219a1442",
   "metadata": {},
   "outputs": [],
   "source": [
    "import os\n",
    "import pandas as pd\n",
    "import numpy as np\n",
    "import matplotlib.pyplot as plt\n",
    "from os import listdir"
   ]
  },
  {
   "cell_type": "code",
   "execution_count": 38,
   "id": "85893fbd-f64f-41b8-a807-a7e18b8e0eef",
   "metadata": {},
   "outputs": [],
   "source": [
    "def plot(y, color='blue', isShow=True, isFigsize=True):\n",
    "    if isFigsize:\n",
    "        plt.figure(figsize=(20, 2))\n",
    "    nx = len(y)\n",
    "    plt.plot( np.arange(nx),  y, color)\n",
    "    if isShow:\n",
    "        plt.show()"
   ]
  },
  {
   "cell_type": "code",
   "execution_count": 30,
   "id": "86a29431-6185-4a13-bdd4-ba53e039e5f5",
   "metadata": {},
   "outputs": [],
   "source": [
    "def get_norm_v2(x):\n",
    "    M1 = np.max(x[:, 0])\n",
    "    M2 = np.max(x[:, 1])\n",
    "    M3 = np.max(x[:, 2])\n",
    "    x2 = np.copy(x)\n",
    "    M =  np.mean(np.abs(x))\n",
    "    x2[:, 0] /= M\n",
    "    x2[:, 1] /= M\n",
    "    x2[:, 2] /= M\n",
    "    return x2\n",
    "\n",
    "def preprocessing_data(xs, N=12000, M=2):\n",
    "    a = np.arange(0, N, M)\n",
    "    print(N//M)\n",
    "    xsa = xs[:, a, :]\n",
    "\n",
    "    for i in tqdm(range(1, M)):\n",
    "        xsa = xsa + xs[:, a+i, :]\n",
    "\n",
    "    for i in tqdm(range(len(xsa))):\n",
    "        xsa[i] = get_norm_v2(xsa[i])\n",
    "    return xsa"
   ]
  },
  {
   "cell_type": "code",
   "execution_count": 32,
   "id": "e684b673-35a5-4bb9-a704-ba7ad1739f0f",
   "metadata": {},
   "outputs": [
    {
     "name": "stdout",
     "output_type": "stream",
     "text": [
      "6000\n"
     ]
    },
    {
     "name": "stderr",
     "output_type": "stream",
     "text": [
      "100%|██████████| 1/1 [00:06<00:00,  6.29s/it]\n",
      "100%|██████████| 29000/29000 [00:06<00:00, 4238.39it/s]\n"
     ]
    }
   ],
   "source": [
    "Xs6 = np.load('data/Bank/xs_train_data600.npy')\n",
    "\n",
    "#Transpose if data not in (numData, timestep, Channel)\n",
    "# Xs = []\n",
    "# for i in range(Xs6.shape[0]):\n",
    "#   Xs.append(Xs6[i].T)\n",
    "# Xs = np.array(Xs)\n",
    "\n",
    "Xs6 =   preprocessing_data(Xs6)\n",
    "np.save('Bank_Mean_x_denoise_600rpm.npy', Xs6)\n",
    "Xs6 = None\n",
    "Xs = None\n"
   ]
  },
  {
   "cell_type": "code",
   "execution_count": 33,
   "id": "a37cef2b-f6f2-4d92-a21e-7e352b7c3af0",
   "metadata": {},
   "outputs": [
    {
     "name": "stdout",
     "output_type": "stream",
     "text": [
      "6000\n"
     ]
    },
    {
     "name": "stderr",
     "output_type": "stream",
     "text": [
      "100%|██████████| 1/1 [00:06<00:00,  6.24s/it]\n",
      "100%|██████████| 29000/29000 [00:06<00:00, 4220.18it/s]\n"
     ]
    }
   ],
   "source": [
    "Xs12 = np.load('data/Bank/xs_train_data1200.npy')\n",
    "\n",
    "#Transpose if data not in (numData, timestep, Channel)\n",
    "# Xs = []\n",
    "# for i in range(Xs12.shape[0]):\n",
    "#   Xs.append(Xs12[i].T)\n",
    "# Xs = np.array(Xs)\n",
    "\n",
    "Xs12 =   preprocessing_data(Xs12)\n",
    "np.save('data/Bank/Bank_Mean_x_denoise_1200rpm.npy', Xs12)\n",
    "Xs12 = None\n",
    "Xs = None"
   ]
  },
  {
   "cell_type": "code",
   "execution_count": 45,
   "id": "bb8962a5-4331-4092-8888-921b2c309e5c",
   "metadata": {},
   "outputs": [
    {
     "name": "stderr",
     "output_type": "stream",
     "text": [
      "100%|██████████| 29000/29000 [00:00<00:00, 566085.61it/s]\n",
      "100%|██████████| 29000/29000 [00:00<00:00, 572932.97it/s]\n"
     ]
    }
   ],
   "source": [
    "from tqdm import tqdm\n",
    "def multiLabeling(label):\n",
    "  label = str(label)\n",
    "  if(label == '0'):\n",
    "    return '0 0 0'.split(\" \")\n",
    "  if(label == '1'):\n",
    "    return '1 0 0'.split(\" \")\n",
    "  if(label == '2'):\n",
    "    return '2 0 0'.split(\" \")\n",
    "  if(label == '3'):\n",
    "    return '3 0 0'.split(\" \")\n",
    "  if(label == '4'):\n",
    "    return '0 1 0'.split(\" \")\n",
    "  if(label == '5'):\n",
    "    return '0 2 0'.split(\" \")\n",
    "  if(label == '6'):\n",
    "    return '0 3 0'.split(\" \")\n",
    "  if(label == '7'):\n",
    "    return '0 0 1'.split(\" \")\n",
    "  if(label == '8'):\n",
    "    return '0 0 2'.split(\" \")\n",
    "  if(label == '9'):\n",
    "    return '0 0 3'.split(\" \")\n",
    "  if(label == '10'):\n",
    "    return '0 0 4'.split(\" \")\n",
    "  if(label == '11'):\n",
    "    return '1 1 0'.split(\" \")\n",
    "  if(label == '12'):\n",
    "    return '2 1 0'.split(\" \")\n",
    "  if(label == '13'):\n",
    "    return '3 1 0'.split(\" \")\n",
    "  if(label == '14'):\n",
    "    return '1 2 0'.split(\" \")\n",
    "  if(label == '15'):\n",
    "    return '2 2 0'.split(\" \")\n",
    "  if(label == '16'):\n",
    "    return '3 2 0'.split(\" \")\n",
    "  if(label == '17'):\n",
    "    return '1 3 0'.split(\" \")\n",
    "  if(label == '18'):\n",
    "    return '2 3 0'.split(\" \")\n",
    "  if(label == '19'):\n",
    "    return '3 3 0'.split(\" \")\n",
    "  if(label == '20'):\n",
    "    return '1 0 1'.split(\" \")\n",
    "  if(label == '21'):\n",
    "    return '2 0 1'.split(\" \")\n",
    "  if(label == '22'):\n",
    "    return '3 0 1'.split(\" \")\n",
    "  if(label == '23'):\n",
    "    return '1 0 2'.split(\" \")\n",
    "  if(label == '24'):\n",
    "    return '2 0 2'.split(\" \")\n",
    "  if(label == '25'):\n",
    "    return '3 0 2'.split(\" \")\n",
    "  if(label == '26'):\n",
    "    return '1 0 3'.split(\" \")\n",
    "  if(label == '27'):\n",
    "    return '2 0 3'.split(\" \")\n",
    "  if(label == '28'):\n",
    "    return '3 0 3'.split(\" \")\n",
    "  else:\n",
    "    return label\n",
    "\n",
    "y1 = []\n",
    "y2 = []\n",
    "y3 = []\n",
    "Xs = []\n",
    "\n",
    "ys = np.load('data/Bank/ys_train_data600.npy')\n",
    "\n",
    "for i in tqdm(range(len(ys))):\n",
    "  Y = multiLabeling(ys[i])\n",
    "  y1.append(Y[0])\n",
    "  y2.append(Y[1])\n",
    "  y3.append(Y[2])\n",
    "\n",
    "for n in tqdm(range(len(ys))):\n",
    "  Y = multiLabeling(ys[n])\n",
    "  y1.append(Y[0])\n",
    "  y2.append(Y[1])\n",
    "  y3.append(Y[2])\n",
    "\n"
   ]
  },
  {
   "cell_type": "code",
   "execution_count": 42,
   "id": "504b45bb-a939-4031-b784-505dab6158c5",
   "metadata": {},
   "outputs": [],
   "source": [
    "Xs6 = np.load('data/Bank/Bank_Mean_x_denoise_600rpm.npy')\n",
    "Xs12 = np.load('data/Bank/Bank_Mean_x_denoise_1200rpm.npy')"
   ]
  },
  {
   "cell_type": "code",
   "execution_count": 43,
   "id": "b4f1d76b-1155-4ea0-935d-c5ddfa0c8fa3",
   "metadata": {},
   "outputs": [
    {
     "data": {
      "text/plain": [
       "(58000, 6000, 3)"
      ]
     },
     "execution_count": 43,
     "metadata": {},
     "output_type": "execute_result"
    }
   ],
   "source": [
    "Xs = np.concatenate([Xs6, Xs12])\n",
    "Xs.shape"
   ]
  },
  {
   "cell_type": "code",
   "execution_count": 44,
   "id": "37e690b8-48f4-4f3d-9117-a688f8756e1f",
   "metadata": {},
   "outputs": [],
   "source": [
    "np.save('data/Bank/Bank_Mean_x_denoise_600_1200rpm_Multilabel.npy', Xs)"
   ]
  },
  {
   "cell_type": "code",
   "execution_count": 8,
   "id": "a570f8a9-1dd2-43ce-b70a-d37e5a4565bd",
   "metadata": {},
   "outputs": [],
   "source": [
    "Xs6 = None\n",
    "Xs12 = None"
   ]
  },
  {
   "cell_type": "code",
   "execution_count": 46,
   "id": "b1cafda4-e783-40c4-aa42-e2e5b23b2147",
   "metadata": {},
   "outputs": [
    {
     "data": {
      "text/html": [
       "<div>\n",
       "<style scoped>\n",
       "    .dataframe tbody tr th:only-of-type {\n",
       "        vertical-align: middle;\n",
       "    }\n",
       "\n",
       "    .dataframe tbody tr th {\n",
       "        vertical-align: top;\n",
       "    }\n",
       "\n",
       "    .dataframe thead th {\n",
       "        text-align: right;\n",
       "    }\n",
       "</style>\n",
       "<table border=\"1\" class=\"dataframe\">\n",
       "  <thead>\n",
       "    <tr style=\"text-align: right;\">\n",
       "      <th></th>\n",
       "      <th>y1</th>\n",
       "      <th>y2</th>\n",
       "      <th>y3</th>\n",
       "    </tr>\n",
       "  </thead>\n",
       "  <tbody>\n",
       "    <tr>\n",
       "      <th>0</th>\n",
       "      <td>0</td>\n",
       "      <td>0</td>\n",
       "      <td>4</td>\n",
       "    </tr>\n",
       "    <tr>\n",
       "      <th>1</th>\n",
       "      <td>1</td>\n",
       "      <td>0</td>\n",
       "      <td>3</td>\n",
       "    </tr>\n",
       "    <tr>\n",
       "      <th>2</th>\n",
       "      <td>1</td>\n",
       "      <td>2</td>\n",
       "      <td>0</td>\n",
       "    </tr>\n",
       "    <tr>\n",
       "      <th>3</th>\n",
       "      <td>0</td>\n",
       "      <td>1</td>\n",
       "      <td>0</td>\n",
       "    </tr>\n",
       "    <tr>\n",
       "      <th>4</th>\n",
       "      <td>0</td>\n",
       "      <td>0</td>\n",
       "      <td>2</td>\n",
       "    </tr>\n",
       "    <tr>\n",
       "      <th>...</th>\n",
       "      <td>...</td>\n",
       "      <td>...</td>\n",
       "      <td>...</td>\n",
       "    </tr>\n",
       "    <tr>\n",
       "      <th>57995</th>\n",
       "      <td>1</td>\n",
       "      <td>2</td>\n",
       "      <td>0</td>\n",
       "    </tr>\n",
       "    <tr>\n",
       "      <th>57996</th>\n",
       "      <td>2</td>\n",
       "      <td>0</td>\n",
       "      <td>2</td>\n",
       "    </tr>\n",
       "    <tr>\n",
       "      <th>57997</th>\n",
       "      <td>0</td>\n",
       "      <td>0</td>\n",
       "      <td>3</td>\n",
       "    </tr>\n",
       "    <tr>\n",
       "      <th>57998</th>\n",
       "      <td>3</td>\n",
       "      <td>3</td>\n",
       "      <td>0</td>\n",
       "    </tr>\n",
       "    <tr>\n",
       "      <th>57999</th>\n",
       "      <td>0</td>\n",
       "      <td>0</td>\n",
       "      <td>4</td>\n",
       "    </tr>\n",
       "  </tbody>\n",
       "</table>\n",
       "<p>58000 rows × 3 columns</p>\n",
       "</div>"
      ],
      "text/plain": [
       "      y1 y2 y3\n",
       "0      0  0  4\n",
       "1      1  0  3\n",
       "2      1  2  0\n",
       "3      0  1  0\n",
       "4      0  0  2\n",
       "...   .. .. ..\n",
       "57995  1  2  0\n",
       "57996  2  0  2\n",
       "57997  0  0  3\n",
       "57998  3  3  0\n",
       "57999  0  0  4\n",
       "\n",
       "[58000 rows x 3 columns]"
      ]
     },
     "execution_count": 46,
     "metadata": {},
     "output_type": "execute_result"
    }
   ],
   "source": [
    "df_train600 = pd.DataFrame(list(zip(y1, y2, y3)),\n",
    "               columns =['y1', 'y2', 'y3'])\n",
    "df_train600"
   ]
  },
  {
   "cell_type": "code",
   "execution_count": 47,
   "id": "a159b5ae-a322-49be-bfe3-54c9ca580e9f",
   "metadata": {},
   "outputs": [
    {
     "data": {
      "text/plain": [
       "array([[0, 0, 4],\n",
       "       [1, 0, 3],\n",
       "       [1, 2, 0],\n",
       "       ...,\n",
       "       [0, 0, 3],\n",
       "       [3, 3, 0],\n",
       "       [0, 0, 4]])"
      ]
     },
     "execution_count": 47,
     "metadata": {},
     "output_type": "execute_result"
    }
   ],
   "source": [
    "ys = df_train600[['y1', 'y2', 'y3']]\n",
    "ys = ys.to_numpy().astype('int64')\n",
    "ys"
   ]
  },
  {
   "cell_type": "code",
   "execution_count": 48,
   "id": "2bb3d5bd-4bf7-4fcb-9393-582497182bde",
   "metadata": {},
   "outputs": [],
   "source": [
    "np.save('data/Bank/Bank_Mean_y_denoise_600_1200rpm_Multilabel.npy', ys)"
   ]
  },
  {
   "cell_type": "code",
   "execution_count": 39,
   "id": "6092402a-e57a-48ac-8b1f-2598b12f1c2e",
   "metadata": {},
   "outputs": [
    {
     "data": {
      "image/png": "[encoded data removed]",
      "text/plain": [
       "<Figure size 1440x144 with 1 Axes>"
      ]
     },
     "metadata": {
      "needs_background": "light"
     },
     "output_type": "display_data"
    }
   ],
   "source": [
    "plot(Xs6[0])"
   ]
  },
  {
   "cell_type": "code",
   "execution_count": null,
   "id": "89ecad73-5bf2-40ad-a923-50369b3637c0",
   "metadata": {},
   "outputs": [],
   "source": []
  }
 ],
 "metadata": {
  "kernelspec": {
   "display_name": "Python 3 (ipykernel)",
   "language": "python",
   "name": "python3"
  },
  "language_info": {
   "codemirror_mode": {
    "name": "ipython",
    "version": 3
   },
   "file_extension": ".py",
   "mimetype": "text/x-python",
   "name": "python",
   "nbconvert_exporter": "python",
   "pygments_lexer": "ipython3",
   "version": "3.9.7"
  }
 },
 "nbformat": 4,
 "nbformat_minor": 5
}
