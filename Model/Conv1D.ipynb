{
 "cells": [
  {
   "cell_type": "code",
   "execution_count": 2,
   "id": "06f03329-39b5-4b7a-b299-b452489cfc9f",
   "metadata": {},
   "outputs": [],
   "source": [
    "import os\n",
    "import pandas as pd\n",
    "import numpy as np\n",
    "from os import listdir"
   ]
  },
  {
   "cell_type": "code",
   "execution_count": 3,
   "id": "9869dc1e-ade6-40cf-bb2d-0a340e9fcec1",
   "metadata": {},
   "outputs": [],
   "source": [
    "from tensorflow.keras.layers import Concatenate, AveragePooling2D, BatchNormalization, Conv2D, Conv2DTranspose, Dense, Input, Reshape, Flatten\n",
    "from tensorflow.keras import models\n",
    "from tensorflow.keras.constraints import max_norm\n",
    "from tensorflow.keras.callbacks import CSVLogger, ModelCheckpoint, ReduceLROnPlateau\n",
    "from tensorflow.keras.callbacks import EarlyStopping\n",
    "from tensorflow.keras.optimizers import Adam\n",
    "import tensorflow as tf\n",
    "from tensorflow.keras import backend as K"
   ]
  },
  {
   "cell_type": "code",
   "execution_count": 4,
   "id": "523d3652-98fc-4b00-9f5a-eb438b142373",
   "metadata": {},
   "outputs": [
    {
     "data": {
      "text/plain": [
       "((58000, 6000, 3), (58000, 3))"
      ]
     },
     "execution_count": 4,
     "metadata": {},
     "output_type": "execute_result"
    }
   ],
   "source": [
    "Xs = np.load(\"../data/Bank/Bank_Mean_x_denoise_600_1200rpm_Multilabel.npy\")\n",
    "ys = np.load(\"../data/Bank/Bank_Mean_y_denoise_600_1200rpm_Multilabel.npy\")\n",
    "Xs.shape, ys.shape\n",
    "# ((58000, 6000, 3), (58000, 3))"
   ]
  },
  {
   "cell_type": "code",
   "execution_count": 5,
   "id": "3ed56668-239e-4641-a3fb-91ee828a2b5f",
   "metadata": {},
   "outputs": [],
   "source": [
    "from tensorflow import keras\n",
    "import tensorflow as tf\n",
    "import tensorflow_addons as tfa\n",
    "import tensorflow.keras.backend as K\n",
    "\n",
    "def masking_loss(y_true,y_pred):\n",
    "    diff=tf.cast(y_true, tf.float32)-y_pred\n",
    "    mask=tf.cast((tf.abs(diff)>=0.5),tf.float32)\n",
    "    loss=keras.losses.mse(mask*tf.cast(y_true, tf.float32), mask*y_pred)\n",
    "    return loss"
   ]
  },
  {
   "cell_type": "code",
   "execution_count": 69,
   "id": "4d58c25c-7689-43a5-9d2c-1efdf22000cc",
   "metadata": {
    "collapsed": true,
    "jupyter": {
     "outputs_hidden": true
    },
    "tags": []
   },
   "outputs": [
    {
     "name": "stdout",
     "output_type": "stream",
     "text": [
      "Model: \"model_3\"\n",
      "_________________________________________________________________\n",
      " Layer (type)                Output Shape              Param #   \n",
      "=================================================================\n",
      " input_4 (InputLayer)        [(None, 6000, 3)]         0         \n",
      "                                                                 \n",
      " conv1d_22 (Conv1D)          (None, 6000, 8)           14408     \n",
      "                                                                 \n",
      " batch_normalization_3 (Batc  (None, 6000, 8)          32        \n",
      " hNormalization)                                                 \n",
      "                                                                 \n",
      " average_pooling1d_17 (Avera  (None, 1500, 8)          0         \n",
      " gePooling1D)                                                    \n",
      "                                                                 \n",
      " conv1d_23 (Conv1D)          (None, 1500, 16)          38416     \n",
      "                                                                 \n",
      " average_pooling1d_18 (Avera  (None, 375, 16)          0         \n",
      " gePooling1D)                                                    \n",
      "                                                                 \n",
      " conv1d_24 (Conv1D)          (None, 375, 32)           51232     \n",
      "                                                                 \n",
      " average_pooling1d_19 (Avera  (None, 93, 32)           0         \n",
      " gePooling1D)                                                    \n",
      "                                                                 \n",
      " conv1d_25 (Conv1D)          (None, 93, 64)            65600     \n",
      "                                                                 \n",
      " average_pooling1d_20 (Avera  (None, 23, 64)           0         \n",
      " gePooling1D)                                                    \n",
      "                                                                 \n",
      " conv1d_26 (Conv1D)          (None, 23, 128)           65664     \n",
      "                                                                 \n",
      " conv1d_27 (Conv1D)          (None, 16, 128)           131200    \n",
      "                                                                 \n",
      " average_pooling1d_21 (Avera  (None, 8, 128)           0         \n",
      " gePooling1D)                                                    \n",
      "                                                                 \n",
      " conv1d_28 (Conv1D)          (None, 8, 256)            131328    \n",
      "                                                                 \n",
      " conv1d_29 (Conv1D)          (None, 8, 256)            262400    \n",
      "                                                                 \n",
      " average_pooling1d_22 (Avera  (None, 4, 256)           0         \n",
      " gePooling1D)                                                    \n",
      "                                                                 \n",
      " flatten_2 (Flatten)         (None, 1024)              0         \n",
      "                                                                 \n",
      " dense_9 (Dense)             (None, 128)               131200    \n",
      "                                                                 \n",
      " dropout_7 (Dropout)         (None, 128)               0         \n",
      "                                                                 \n",
      " dense_10 (Dense)            (None, 64)                8256      \n",
      "                                                                 \n",
      " dropout_8 (Dropout)         (None, 64)                0         \n",
      "                                                                 \n",
      " dense_11 (Dense)            (None, 3)                 195       \n",
      "                                                                 \n",
      "=================================================================\n",
      "Total params: 899,931\n",
      "Trainable params: 899,915\n",
      "Non-trainable params: 16\n",
      "_________________________________________________________________\n"
     ]
    }
   ],
   "source": [
    "'''\n",
    "BEST : Models/Raw_l12_masking_elu_Conv1D_MultiClass.h5\n",
    "'''\n",
    "from tensorflow.keras import regularizers\n",
    "from tensorflow.keras import Model\n",
    "from tensorflow.keras.layers import Conv1D, Input, BatchNormalization, AveragePooling1D, Flatten, MaxPooling1D, Dropout, Dense\n",
    "\n",
    "input = Input((Xs.shape[1], Xs.shape[2]))\n",
    "x = Conv1D(8, 600, activation='relu', padding='same' , kernel_regularizer=regularizers.l1_l2(l1=1e-5, l2=1e-4))(input)\n",
    "#x = Conv1D(32, 64, activation='relu', padding='same')(x)\n",
    "x = BatchNormalization()(x)\n",
    "x = AveragePooling1D(pool_size=4)(x)\n",
    "# print(x.get_shape())\n",
    "x = Conv1D(16, 300, activation='relu', padding='same')(x)\n",
    "#x = Conv1D(64, 8, activation='relu', padding='same')(x)\n",
    "#x = AveragePooling1D()(x)\n",
    "x = AveragePooling1D(pool_size=4)(x)\n",
    "\n",
    "x = Conv1D(32, 100, activation='relu', padding='same')(x)\n",
    "#x = Conv1D(64, 3, activation='relu', padding='same')(x)\n",
    "#x = AveragePooling1D()(x)\n",
    "x = AveragePooling1D(pool_size=4)(x)\n",
    "# print(x.get_shape())\n",
    "x = Conv1D(64, 32, activation='relu', padding='same')(x)\n",
    "#x = Conv1D(128, 3, activation='relu', padding='same')(x)\n",
    "x = AveragePooling1D(pool_size=4)(x)\n",
    "\n",
    "x = Conv1D(128, 8, activation='relu', padding='same')(x)\n",
    "x = Conv1D(128, 8, activation='relu')(x)\n",
    "x = AveragePooling1D(pool_size=2)(x)\n",
    "\n",
    "x = Conv1D(256, 4, activation='relu', padding='same')(x)\n",
    "x = Conv1D(256, 4, activation='relu', padding='same')(x)\n",
    "x = AveragePooling1D(pool_size=2)(x)\n",
    "\n",
    "x = Flatten()(x)\n",
    "x = Dense(128, activation='relu' , kernel_regularizer=regularizers.l1_l2(l1=1e-5, l2=1e-4))(x)\n",
    "x = Dropout(0.25)(x)\n",
    "x = Dense(64, activation='relu')(x)\n",
    "x = Dropout(0.25)(x)\n",
    "x = Dense(3, activation='elu')(x)\n",
    "model = Model(input, x)\n",
    "model.summary()"
   ]
  },
  {
   "cell_type": "code",
   "execution_count": 6,
   "id": "4728266b-6fa8-4cba-9803-feebc442a531",
   "metadata": {
    "collapsed": true,
    "jupyter": {
     "outputs_hidden": true
    },
    "tags": []
   },
   "outputs": [
    {
     "name": "stdout",
     "output_type": "stream",
     "text": [
      "Model: \"model\"\n",
      "_________________________________________________________________\n",
      " Layer (type)                Output Shape              Param #   \n",
      "=================================================================\n",
      " input_1 (InputLayer)        [(None, 6000, 3)]         0         \n",
      "                                                                 \n",
      " conv1d (Conv1D)             (None, 6000, 8)           14408     \n",
      "                                                                 \n",
      " batch_normalization (BatchN  (None, 6000, 8)          32        \n",
      " ormalization)                                                   \n",
      "                                                                 \n",
      " max_pooling1d (MaxPooling1D  (None, 1500, 8)          0         \n",
      " )                                                               \n",
      "                                                                 \n",
      " conv1d_1 (Conv1D)           (None, 1500, 16)          38416     \n",
      "                                                                 \n",
      " average_pooling1d (AverageP  (None, 375, 16)          0         \n",
      " ooling1D)                                                       \n",
      "                                                                 \n",
      " conv1d_2 (Conv1D)           (None, 375, 32)           51232     \n",
      "                                                                 \n",
      " average_pooling1d_1 (Averag  (None, 93, 32)           0         \n",
      " ePooling1D)                                                     \n",
      "                                                                 \n",
      " conv1d_3 (Conv1D)           (None, 93, 64)            65600     \n",
      "                                                                 \n",
      " average_pooling1d_2 (Averag  (None, 23, 64)           0         \n",
      " ePooling1D)                                                     \n",
      "                                                                 \n",
      " conv1d_4 (Conv1D)           (None, 23, 128)           65664     \n",
      "                                                                 \n",
      " conv1d_5 (Conv1D)           (None, 23, 128)           131200    \n",
      "                                                                 \n",
      " average_pooling1d_3 (Averag  (None, 11, 128)          0         \n",
      " ePooling1D)                                                     \n",
      "                                                                 \n",
      " conv1d_6 (Conv1D)           (None, 11, 256)           131328    \n",
      "                                                                 \n",
      " conv1d_7 (Conv1D)           (None, 11, 256)           262400    \n",
      "                                                                 \n",
      " max_pooling1d_1 (MaxPooling  (None, 5, 256)           0         \n",
      " 1D)                                                             \n",
      "                                                                 \n",
      " flatten (Flatten)           (None, 1280)              0         \n",
      "                                                                 \n",
      " dense (Dense)               (None, 256)               327936    \n",
      "                                                                 \n",
      " dropout (Dropout)           (None, 256)               0         \n",
      "                                                                 \n",
      " dense_1 (Dense)             (None, 64)                16448     \n",
      "                                                                 \n",
      " dropout_1 (Dropout)         (None, 64)                0         \n",
      "                                                                 \n",
      " dense_2 (Dense)             (None, 3)                 195       \n",
      "                                                                 \n",
      "=================================================================\n",
      "Total params: 1,104,859\n",
      "Trainable params: 1,104,843\n",
      "Non-trainable params: 16\n",
      "_________________________________________________________________\n"
     ]
    },
    {
     "name": "stderr",
     "output_type": "stream",
     "text": [
      "2022-04-08 10:31:03.522479: I tensorflow/core/platform/cpu_feature_guard.cc:151] This TensorFlow binary is optimized with oneAPI Deep Neural Network Library (oneDNN) to use the following CPU instructions in performance-critical operations:  AVX2 AVX512F FMA\n",
      "To enable them in other operations, rebuild TensorFlow with the appropriate compiler flags.\n",
      "2022-04-08 10:31:04.107565: I tensorflow/core/common_runtime/gpu/gpu_device.cc:1525] Created device /job:localhost/replica:0/task:0/device:GPU:0 with 13534 MB memory:  -> device: 0, name: Tesla T4, pci bus id: 0000:21:01.0, compute capability: 7.5\n"
     ]
    }
   ],
   "source": [
    "'''\n",
    "../Models/Raw_MaxPool_MoreDense_l12_masking_elu_Conv1D_MultiClass.h5\n",
    "'''\n",
    "from tensorflow.keras import regularizers\n",
    "from tensorflow.keras import Model\n",
    "from tensorflow.keras.layers import Conv1D, Input, BatchNormalization, AveragePooling1D, Flatten, MaxPooling1D, Dropout, Dense\n",
    "\n",
    "def reparameterize(mean, logvar):\n",
    "    eps = tf.random.normal(shape=[128])\n",
    "    return eps * tf.exp(logvar * .5) + mean\n",
    "\n",
    "input = Input((Xs.shape[1], Xs.shape[2]))\n",
    "x = Conv1D(8, 600, activation='relu', padding='same' , kernel_regularizer=regularizers.l1_l2(l1=1e-5, l2=1e-4))(input)\n",
    "#x = Conv1D(32, 64, activation='relu', padding='same')(x)\n",
    "x = BatchNormalization()(x)\n",
    "x = MaxPooling1D (pool_size=4)(x)\n",
    "# print(x.get_shape())\n",
    "x = Conv1D(16, 300, activation='relu', padding='same', kernel_regularizer=regularizers.l1_l2(l1=1e-5, l2=1e-4))(x)\n",
    "#x = Conv1D(64, 8, activation='relu', padding='same')(x)\n",
    "#x = AveragePooling1D()(x)\n",
    "x = AveragePooling1D(pool_size=4)(x)\n",
    "\n",
    "x = Conv1D(32, 100, activation='relu', padding='same', kernel_regularizer=regularizers.l1_l2(l1=1e-5, l2=1e-4))(x)\n",
    "#x = Conv1D(64, 3, activation='relu', padding='same')(x)\n",
    "#x = AveragePooling1D()(x)\n",
    "x = AveragePooling1D(pool_size=4)(x)\n",
    "# print(x.get_shape())\n",
    "x = Conv1D(64, 32, activation='relu', padding='same', kernel_regularizer=regularizers.l1_l2(l1=1e-5, l2=1e-4))(x)\n",
    "#x = Conv1D(128, 3, activation='relu', padding='same')(x)\n",
    "x = AveragePooling1D(pool_size=4)(x)\n",
    "\n",
    "x = Conv1D(128, 8, activation='relu', padding='same', kernel_regularizer=regularizers.l1_l2(l1=1e-5, l2=1e-4))(x)\n",
    "x = Conv1D(128, 8, activation='relu', padding='same')(x)\n",
    "x = AveragePooling1D(pool_size=2)(x)\n",
    "\n",
    "x = Conv1D(256, 4, activation='relu', padding='same', kernel_regularizer=regularizers.l1_l2(l1=1e-5, l2=1e-4))(x)\n",
    "x = Conv1D(256, 4, activation='relu', padding='same')(x)\n",
    "x = MaxPooling1D(pool_size=2)(x)\n",
    "\n",
    "x = Flatten()(x)\n",
    "x = Dense(256, activation='relu' , kernel_regularizer=regularizers.l1_l2(l1=1e-5, l2=1e-4))(x)\n",
    "x = Dropout(0.25)(x)\n",
    "x = Dense(64, activation='relu')(x)\n",
    "x = Dropout(0.25)(x)\n",
    "x = Dense(3, activation='elu')(x)\n",
    "model = Model(input, x)\n",
    "model.summary()"
   ]
  },
  {
   "cell_type": "code",
   "execution_count": 7,
   "id": "cc248147-87b1-48eb-b08c-3283578881d4",
   "metadata": {},
   "outputs": [],
   "source": [
    "checkpointer = ModelCheckpoint(monitor='val_loss', filepath='../Models/Raw_MaxPool_MoreDense_l12_masking_elu_Conv1D_MultiClass.h5', \n",
    "                                       verbose=1, save_best_only= True, \n",
    "                                       mode = 'min',\n",
    "                                       save_weight_only=True)\n",
    "reduce_lr = ReduceLROnPlateau(monitor='val_loss', factor=0.2,\n",
    "                              patience=10, min_lr=0.00001)\n",
    "es = EarlyStopping(monitor='val_loss', mode='min', verbose=1, \n",
    "                           patience=25)\n",
    "callbacks = [checkpointer, reduce_lr, es]"
   ]
  },
  {
   "cell_type": "code",
   "execution_count": 8,
   "id": "c177ee56-4c07-4e7f-87fd-fe18063792c6",
   "metadata": {},
   "outputs": [],
   "source": [
    "model.compile(optimizer='adam', loss=[masking_loss], metrics=['accuracy'])"
   ]
  },
  {
   "cell_type": "code",
   "execution_count": 12,
   "id": "ff35b5d9-a8d9-4bfc-ae92-aff833de1d5c",
   "metadata": {},
   "outputs": [
    {
     "data": {
      "text/plain": [
       "((46400, 6000, 3), (11600, 6000, 3))"
      ]
     },
     "execution_count": 12,
     "metadata": {},
     "output_type": "execute_result"
    }
   ],
   "source": [
    "from sklearn.model_selection import train_test_split\n",
    "\n",
    "X_train, X_test, y_train, y_test = train_test_split(Xs, ys, test_size=0.2, random_state=42)\n",
    "X_train.shape, X_test.shape"
   ]
  },
  {
   "cell_type": "code",
   "execution_count": null,
   "id": "c6da4c8e-f74b-450f-b092-15edfb7f496f",
   "metadata": {
    "collapsed": true,
    "jupyter": {
     "outputs_hidden": true
    },
    "tags": []
   },
   "outputs": [],
   "source": [
    "model.fit(X_train, y_train, batch_size=128,epochs=200 , validation_data=(X_test, y_test), callbacks=callbacks)"
   ]
  },
  {
   "cell_type": "code",
   "execution_count": null,
   "id": "f785ed94-bc15-4241-a590-87769090d8b7",
   "metadata": {},
   "outputs": [],
   "source": [
    "## Evaluate"
   ]
  },
  {
   "cell_type": "code",
   "execution_count": 51,
   "id": "a2fdb2f2-420a-4483-9e74-e385ce6b3dc1",
   "metadata": {},
   "outputs": [
    {
     "name": "stdout",
     "output_type": "stream",
     "text": [
      "/root/Notebook\n"
     ]
    }
   ],
   "source": [
    "!pwd"
   ]
  },
  {
   "cell_type": "code",
   "execution_count": 32,
   "id": "0b092cbf-d445-479a-b80a-1b506295e53e",
   "metadata": {},
   "outputs": [],
   "source": [
    "from tensorflow import keras\n",
    "# model = keras.models.load_model('../Models/triplet_elu_Conv1D_MultiClass.h5')\n",
    "# Loads the weights\n",
    "model.load_weights('../Models/Raw_MaxPool_MoreDense_l12_masking_elu_Conv1D_MultiClass.h5')"
   ]
  },
  {
   "cell_type": "code",
   "execution_count": 33,
   "id": "cc098c55-f3f4-47ee-86f1-72983e697627",
   "metadata": {},
   "outputs": [
    {
     "name": "stdout",
     "output_type": "stream",
     "text": [
      "Model: \"model\"\n",
      "_________________________________________________________________\n",
      " Layer (type)                Output Shape              Param #   \n",
      "=================================================================\n",
      " input_1 (InputLayer)        [(None, 6000, 3)]         0         \n",
      "                                                                 \n",
      " conv1d (Conv1D)             (None, 6000, 8)           14408     \n",
      "                                                                 \n",
      " batch_normalization (BatchN  (None, 6000, 8)          32        \n",
      " ormalization)                                                   \n",
      "                                                                 \n",
      " max_pooling1d (MaxPooling1D  (None, 1500, 8)          0         \n",
      " )                                                               \n",
      "                                                                 \n",
      " conv1d_1 (Conv1D)           (None, 1500, 16)          38416     \n",
      "                                                                 \n",
      " average_pooling1d (AverageP  (None, 375, 16)          0         \n",
      " ooling1D)                                                       \n",
      "                                                                 \n",
      " conv1d_2 (Conv1D)           (None, 375, 32)           51232     \n",
      "                                                                 \n",
      " average_pooling1d_1 (Averag  (None, 93, 32)           0         \n",
      " ePooling1D)                                                     \n",
      "                                                                 \n",
      " conv1d_3 (Conv1D)           (None, 93, 64)            65600     \n",
      "                                                                 \n",
      " average_pooling1d_2 (Averag  (None, 23, 64)           0         \n",
      " ePooling1D)                                                     \n",
      "                                                                 \n",
      " conv1d_4 (Conv1D)           (None, 23, 128)           65664     \n",
      "                                                                 \n",
      " conv1d_5 (Conv1D)           (None, 23, 128)           131200    \n",
      "                                                                 \n",
      " average_pooling1d_3 (Averag  (None, 11, 128)          0         \n",
      " ePooling1D)                                                     \n",
      "                                                                 \n",
      " conv1d_6 (Conv1D)           (None, 11, 256)           131328    \n",
      "                                                                 \n",
      " conv1d_7 (Conv1D)           (None, 11, 256)           262400    \n",
      "                                                                 \n",
      " max_pooling1d_1 (MaxPooling  (None, 5, 256)           0         \n",
      " 1D)                                                             \n",
      "                                                                 \n",
      " flatten (Flatten)           (None, 1280)              0         \n",
      "                                                                 \n",
      " dense (Dense)               (None, 256)               327936    \n",
      "                                                                 \n",
      " dropout (Dropout)           (None, 256)               0         \n",
      "                                                                 \n",
      " dense_1 (Dense)             (None, 64)                16448     \n",
      "                                                                 \n",
      " dropout_1 (Dropout)         (None, 64)                0         \n",
      "                                                                 \n",
      " dense_2 (Dense)             (None, 3)                 195       \n",
      "                                                                 \n",
      "=================================================================\n",
      "Total params: 1,104,859\n",
      "Trainable params: 1,104,843\n",
      "Non-trainable params: 16\n",
      "_________________________________________________________________\n"
     ]
    }
   ],
   "source": [
    "model.summary()"
   ]
  },
  {
   "cell_type": "code",
   "execution_count": 18,
   "id": "170406b6-bc70-4c41-a7f6-57063d4d64c6",
   "metadata": {
    "tags": []
   },
   "outputs": [],
   "source": [
    "pred_val = model.predict(X_test)"
   ]
  },
  {
   "cell_type": "code",
   "execution_count": 19,
   "id": "e6ffc405-f515-4c4f-bbc7-1234b230b6b4",
   "metadata": {},
   "outputs": [
    {
     "data": {
      "text/plain": [
       "array([[-0.03959975, -0.10166721,  3.051476  ],\n",
       "       [ 1.6467396 ,  1.7537956 , -0.05787564],\n",
       "       [ 1.4909191 ,  1.846158  , -0.18499584],\n",
       "       ...,\n",
       "       [ 0.07819688,  2.9179587 , -0.17407507],\n",
       "       [ 1.4740404 ,  1.8313091 , -0.17540298],\n",
       "       [ 0.6353797 ,  0.03899473,  2.9903135 ]], dtype=float32)"
      ]
     },
     "execution_count": 19,
     "metadata": {},
     "output_type": "execute_result"
    }
   ],
   "source": [
    "pred_val"
   ]
  },
  {
   "cell_type": "code",
   "execution_count": 34,
   "id": "2776c47b-18c7-4ad6-ae59-cd07f70ff59d",
   "metadata": {},
   "outputs": [
    {
     "data": {
      "text/plain": [
       "array([0., 0., 3., ..., 0., 0., 1.], dtype=float32)"
      ]
     },
     "execution_count": 34,
     "metadata": {},
     "output_type": "execute_result"
    }
   ],
   "source": [
    "y_val_around1 = np.clip(np.around(pred_val)[:, 0], 0, 3)\n",
    "y_val_around1\n",
    "\n",
    "y_val_around2 = np.clip(np.around(pred_val)[:, 1], 0, 3)\n",
    "y_val_around2\n",
    "\n",
    "y_val_around3 = np.clip(np.around(pred_val)[:, 2], 0, 4)\n",
    "y_val_around3"
   ]
  },
  {
   "cell_type": "code",
   "execution_count": 37,
   "id": "0a3c4361-a3de-46c4-a013-1bf3fded33d4",
   "metadata": {
    "tags": []
   },
   "outputs": [
    {
     "name": "stdout",
     "output_type": "stream",
     "text": [
      "Found 29\n",
      "Found 29\n",
      "Found 29\n",
      "Found 29\n",
      "Found 29\n",
      "Found 29\n",
      "Found 29\n",
      "Found 29\n",
      "Found 29\n",
      "Found 29\n",
      "Found 29\n",
      "Found 29\n",
      "Found 29\n",
      "Found 29\n",
      "Found 29\n",
      "Found 29\n",
      "Found 29\n",
      "Found 29\n",
      "Found 29\n",
      "Found 29\n",
      "Found 29\n",
      "Found 29\n",
      "Found 29\n",
      "Found 29\n",
      "Found 29\n",
      "Found 29\n",
      "Found 29\n",
      "Found 29\n",
      "y1 : 0, y2 : 1, y3 : 1\n",
      "Found 29\n",
      "Found 29\n",
      "Found 29\n",
      "Found 29\n",
      "Found 29\n",
      "Found 29\n",
      "Found 29\n",
      "Found 29\n",
      "Found 29\n",
      "Found 29\n"
     ]
    }
   ],
   "source": [
    "y_pred_val = []\n",
    "for i in range(len(pred_val)):\n",
    "  y1, y2, y3 = \"\", \"\", \"\"\n",
    "  y1 = y_val_around1[i]\n",
    "  y2 = y_val_around2[i]\n",
    "  y3 = y_val_around3[i]\n",
    "  y_pred_val.append(inverse_multilabeling(y1, y2, y3))"
   ]
  },
  {
   "cell_type": "code",
   "execution_count": 38,
   "id": "4cbbf72e-0035-4f8a-b279-48070274bb7f",
   "metadata": {},
   "outputs": [],
   "source": [
    "ymax_test = []\n",
    "for i in range(len(y_test)):\n",
    "  y1, y2, y3 = \"\", \"\", \"\"\n",
    "  y1 = y_test[i][0]\n",
    "  y2 = y_test[i][1]\n",
    "  y3 = y_test[i][2]\n",
    "  ymax_test.append(inverse_multilabeling(y1, y2, y3))"
   ]
  },
  {
   "cell_type": "code",
   "execution_count": 39,
   "id": "bf7f2fd0-2550-48da-b8d2-2ea762850b1f",
   "metadata": {
    "tags": []
   },
   "outputs": [
    {
     "data": {
      "text/plain": [
       "array([[374,  26,   3,   0,   0,   0,   0,   0,   0,   0,   0,   0,   0,\n",
       "          0,   0,   0,   0,   0,   0,   0,   0,   0,   0,   0,   0,   0,\n",
       "          0,   0,   0,   0],\n",
       "       [ 24, 277,  72,  18,   0,   0,   0,   0,   0,   0,   0,   0,   0,\n",
       "          0,   0,   0,   0,   0,   0,   0,   0,   0,   0,   0,   0,   0,\n",
       "          0,   0,   0,   0],\n",
       "       [  7,  44, 299,  18,   0,   0,   0,   0,   0,   0,   0,   0,   1,\n",
       "          0,   0,   0,   0,   0,   0,   0,   0,   0,   0,   0,   0,   0,\n",
       "          0,   0,   0,   0],\n",
       "       [  1,  34, 125, 263,   0,   0,   0,   0,   0,   0,   0,   0,   0,\n",
       "          0,   0,   0,   0,   0,   0,   0,   0,   0,   0,   0,   0,   0,\n",
       "          0,   0,   0,   0],\n",
       "       [  3,   4,   4,   0, 252,   0,   0,   0,   0,   0,   0,  97,  30,\n",
       "          4,   0,   1,   0,   0,   0,   0,   0,   0,   0,   0,   0,   0,\n",
       "          0,   0,   0,   0],\n",
       "       [  0,   0,   0,   0,   0, 235,  16,   0,   0,   0,   0,   0,   0,\n",
       "          0,  35,   4,   1,  39,  33,  11,   0,   0,   0,   0,   0,   1,\n",
       "          0,   0,   0,   1],\n",
       "       [  0,   0,   0,   0,   0,  36, 209,   0,   0,   0,   0,   1,   4,\n",
       "          0,  49,  42,   3,  14,  30,   8,   0,   0,   0,   0,   0,   0,\n",
       "          0,   0,   0,   0],\n",
       "       [  0,   0,   0,   0,   0,   0,   0, 184,   0,   0,   0,   0,   0,\n",
       "          0,   2,   0,   0,   1,   2,   0, 101,  38,   0,  68,  10,   0,\n",
       "          0,   1,   0,   5],\n",
       "       [  0,   0,   0,   0,   0,   0,   0,   0, 198,   0,   0,   0,   0,\n",
       "          0,   0,   0,   0,   0,   0,   0,  64,  31,   0,  88,   8,   0,\n",
       "          0,   4,   0,   0],\n",
       "       [  0,   0,   0,   0,   0,   0,   0,   0,   1, 400,   0,   0,   0,\n",
       "          0,   0,   0,   0,   0,   0,   0,   0,   0,   0,   0,   0,   0,\n",
       "         10,   0,   0,   0],\n",
       "       [  0,   0,   0,   0,   0,   0,   0,   0,   0,  16, 344,   0,   0,\n",
       "          0,   0,   0,   0,   0,   0,   0,   0,   0,   0,   4,   5,   0,\n",
       "         26,   1,   0,   0],\n",
       "       [  0,   0,   0,   0,  25,   0,   0,   0,   0,   0,   0, 337,  48,\n",
       "          3,   0,   2,   0,   0,   0,   0,   0,   1,   0,   0,   1,   0,\n",
       "          0,   0,   0,   5],\n",
       "       [  0,   0,   1,   0,   3,   0,   0,   0,   0,   0,   0,  35, 297,\n",
       "         75,   1,  15,   0,   0,   0,   0,   0,   0,   0,   0,   0,   0,\n",
       "          0,   0,   0,   0],\n",
       "       [  0,   0,   3,   0,   1,   0,   1,   0,   0,   0,   0,  28,  86,\n",
       "        272,   0,  16,   0,   0,   0,   0,   0,   0,   0,   0,   0,   0,\n",
       "          0,   0,   0,   0],\n",
       "       [  0,   0,   0,   0,   0,  11,   0,   0,   0,   0,   0,   0,   0,\n",
       "          0, 263,  40,  36,   2,  19,  26,   0,   0,   0,   0,   0,   0,\n",
       "          0,   0,   0,   0],\n",
       "       [  0,   0,   0,   0,   0,   6,   3,   0,   0,   0,   0,  21,  31,\n",
       "          4,  44, 283,  10,   1,  12,   0,   0,   0,   0,   0,   0,   0,\n",
       "          0,   0,   0,   0],\n",
       "       [  0,   0,   0,   0,   0,   3,   0,   0,   0,   0,   0,   0,   0,\n",
       "          0,  19,  32, 346,   0,   2,  12,   0,   0,   0,   0,   0,   0,\n",
       "          0,   0,   0,   0],\n",
       "       [  0,   0,   0,   0,   0,  14,  15,   0,   0,   0,   0,   0,   0,\n",
       "          0,   9,   4,   0, 318,  22,   1,   5,   0,   0,   1,   6,   3,\n",
       "          0,   0,   0,   8],\n",
       "       [  0,   0,   0,   0,   0,  12,   3,   0,   0,   0,   0,   0,   0,\n",
       "          0,  28,  12,   2,  38, 245,  16,   2,   0,   0,   1,   2,   1,\n",
       "          0,   0,   0,   6],\n",
       "       [  0,   0,   0,   0,   0,  13,   5,   0,   0,   0,   0,   0,   0,\n",
       "          0,  40,  28,   9,  13,  61, 221,   0,   0,   0,   0,   0,   0,\n",
       "          0,   0,   0,   0],\n",
       "       [  0,   0,   0,   0,   0,   0,   0,   0,   0,   0,   0,   0,   0,\n",
       "          0,   0,   0,   0,   0,   0,   0, 272, 103,   0,  49,   9,   0,\n",
       "          1,   0,   0,   0],\n",
       "       [  0,   0,   0,   0,   0,   0,   0,   0,   0,   1,   0,   0,   0,\n",
       "          0,   0,   0,   0,   0,   0,   0,  59, 295,  25,  31,   3,   0,\n",
       "          0,   0,   0,   0],\n",
       "       [  0,   0,   0,   0,   0,   0,   0,   0,   0,   0,   0,   0,   0,\n",
       "          0,   0,   0,   0,   0,   0,   0,  66, 126, 170,  18,   5,   0,\n",
       "          0,   0,   0,   0],\n",
       "       [  1,   0,   0,   0,   0,   0,   0,   1,   0,   0,   0,   0,   0,\n",
       "          0,   1,   0,   0,   0,   0,   0,  29,   3,   0, 267,  67,   8,\n",
       "          1,  16,   0,   4],\n",
       "       [  0,   0,   0,   0,   0,   0,   0,   0,   0,   4,   8,   0,   0,\n",
       "          0,   0,   0,   0,   0,   0,   0,   4,   5,   0,  33, 278,   1,\n",
       "         24,  22,   0,   0],\n",
       "       [  0,   0,   0,   0,   0,   0,   0,   0,   0,   0,   0,   0,   0,\n",
       "          0,   2,   0,   0,   1,   0,   0,   7,   2,   0,  26, 131, 219,\n",
       "          0,  13,   0,   8],\n",
       "       [  0,   0,   0,   0,   0,   0,   0,   0,   0,   4,   0,   0,   0,\n",
       "          0,   0,   0,   0,   0,   0,   0,   0,   0,   0,   3,  14,   1,\n",
       "        231, 141,   0,   1],\n",
       "       [  0,   0,   0,   0,   0,   0,   0,   0,   0,   0,   0,   0,   0,\n",
       "          0,   0,   0,   0,   0,   0,   0,   0,   0,   0,   4,   5,   0,\n",
       "          2, 352,   7,   0],\n",
       "       [  0,   0,   0,   0,   0,   0,   0,   0,   0,   0,   0,   0,   0,\n",
       "          0,   0,   0,   0,   0,   0,   0,   0,   0,   0,   1,   3,   0,\n",
       "          3, 193, 205,   0],\n",
       "       [  0,   0,   0,   0,   0,   0,   0,   0,   0,   0,   0,   0,   0,\n",
       "          0,   0,   0,   0,   0,   0,   0,   0,   0,   0,   0,   0,   0,\n",
       "          0,   0,   0,   0]])"
      ]
     },
     "execution_count": 39,
     "metadata": {},
     "output_type": "execute_result"
    }
   ],
   "source": [
    "from sklearn.metrics import confusion_matrix, classification_report\n",
    "\n",
    "y_pred = y_pred_val\n",
    "y_true = ymax_test\n",
    "confusion_array = confusion_matrix(y_true, y_pred)\n",
    "confusion_array"
   ]
  },
  {
   "cell_type": "code",
   "execution_count": 40,
   "id": "bf723c9e-4c5d-4cc6-b7cd-8798c43a45ce",
   "metadata": {
    "tags": []
   },
   "outputs": [
    {
     "name": "stdout",
     "output_type": "stream",
     "text": [
      "              precision    recall  f1-score   support\n",
      "\n",
      "           0       0.91      0.93      0.92       403\n",
      "           1       0.72      0.71      0.71       391\n",
      "           2       0.59      0.81      0.68       369\n",
      "           3       0.88      0.62      0.73       423\n",
      "           4       0.90      0.64      0.75       395\n",
      "           5       0.71      0.62      0.67       376\n",
      "           6       0.83      0.53      0.65       396\n",
      "           7       0.99      0.45      0.62       412\n",
      "           8       0.99      0.50      0.67       393\n",
      "           9       0.94      0.97      0.96       411\n",
      "          10       0.98      0.87      0.92       396\n",
      "          11       0.65      0.80      0.72       422\n",
      "          12       0.60      0.70      0.64       427\n",
      "          13       0.76      0.67      0.71       407\n",
      "          14       0.53      0.66      0.59       397\n",
      "          15       0.59      0.68      0.63       415\n",
      "          16       0.85      0.84      0.84       414\n",
      "          17       0.74      0.78      0.76       406\n",
      "          18       0.58      0.67      0.62       368\n",
      "          19       0.75      0.57      0.65       390\n",
      "          20       0.45      0.63      0.52       434\n",
      "          21       0.49      0.71      0.58       414\n",
      "          22       0.87      0.44      0.59       385\n",
      "          23       0.45      0.67      0.54       398\n",
      "          24       0.51      0.73      0.60       379\n",
      "          25       0.94      0.54      0.68       409\n",
      "          26       0.78      0.58      0.67       395\n",
      "          27       0.47      0.95      0.63       370\n",
      "          28       0.97      0.51      0.66       405\n",
      "          29       0.00      0.00      0.00         0\n",
      "\n",
      "    accuracy                           0.68     11600\n",
      "   macro avg       0.71      0.66      0.66     11600\n",
      "weighted avg       0.74      0.68      0.69     11600\n",
      "\n"
     ]
    },
    {
     "name": "stderr",
     "output_type": "stream",
     "text": [
      "/root/miniconda3/lib/python3.9/site-packages/sklearn/metrics/_classification.py:1318: UndefinedMetricWarning: Recall and F-score are ill-defined and being set to 0.0 in labels with no true samples. Use `zero_division` parameter to control this behavior.\n",
      "  _warn_prf(average, modifier, msg_start, len(result))\n",
      "/root/miniconda3/lib/python3.9/site-packages/sklearn/metrics/_classification.py:1318: UndefinedMetricWarning: Recall and F-score are ill-defined and being set to 0.0 in labels with no true samples. Use `zero_division` parameter to control this behavior.\n",
      "  _warn_prf(average, modifier, msg_start, len(result))\n",
      "/root/miniconda3/lib/python3.9/site-packages/sklearn/metrics/_classification.py:1318: UndefinedMetricWarning: Recall and F-score are ill-defined and being set to 0.0 in labels with no true samples. Use `zero_division` parameter to control this behavior.\n",
      "  _warn_prf(average, modifier, msg_start, len(result))\n"
     ]
    }
   ],
   "source": [
    "print(classification_report(y_true, y_pred))"
   ]
  },
  {
   "cell_type": "code",
   "execution_count": 41,
   "id": "293718b3-4e05-4753-a162-89c8cb3504f5",
   "metadata": {},
   "outputs": [],
   "source": [
    "### Predict"
   ]
  },
  {
   "cell_type": "code",
   "execution_count": 20,
   "id": "2bee47d5-86b6-43d3-bb6f-f54c981ce463",
   "metadata": {},
   "outputs": [
    {
     "data": {
      "text/plain": [
       "(1800, 6000, 3)"
      ]
     },
     "execution_count": 20,
     "metadata": {},
     "output_type": "execute_result"
    }
   ],
   "source": [
    "Xs = np.load('../data/Mean_final_x_denoise.npy')\n",
    "Xs.shape"
   ]
  },
  {
   "cell_type": "code",
   "execution_count": 34,
   "id": "3440f9ef-395a-416e-8a0b-2ea049826268",
   "metadata": {},
   "outputs": [],
   "source": [
    "ypred = model.predict(Xs)"
   ]
  },
  {
   "cell_type": "code",
   "execution_count": 35,
   "id": "6673003a-de3e-4e9b-8b08-c1bc3c6d94f2",
   "metadata": {},
   "outputs": [
    {
     "data": {
      "text/plain": [
       "(1800, 3)"
      ]
     },
     "execution_count": 35,
     "metadata": {},
     "output_type": "execute_result"
    }
   ],
   "source": [
    "ypred.shape"
   ]
  },
  {
   "cell_type": "code",
   "execution_count": 36,
   "id": "6a6d3d84-661c-418e-88fe-ca180e8de4bc",
   "metadata": {
    "tags": []
   },
   "outputs": [
    {
     "data": {
      "text/plain": [
       "array([[ 7.34559298e-02, -1.09300815e-01, -2.29601651e-01],\n",
       "       [ 2.45327139e+00,  1.22193944e+00, -8.70240480e-02],\n",
       "       [ 2.97339249e+00,  1.03491092e+00, -1.36759907e-01],\n",
       "       [ 1.10281241e+00,  1.94137812e-01, -2.35696579e-03],\n",
       "       [ 1.54996908e+00, -1.56156197e-01,  2.91342974e+00],\n",
       "       [ 1.58916807e+00, -1.42560601e-01,  2.36105561e+00],\n",
       "       [ 1.24422312e-01, -8.62440169e-02,  3.05472803e+00],\n",
       "       [ 9.73662496e-01,  1.49765134e-01,  1.23056924e+00],\n",
       "       [ 1.94930315e-01,  4.69213724e-02,  1.28514004e+00],\n",
       "       [ 3.94209146e-01,  3.27546597e-02,  1.44198513e+00],\n",
       "       [ 1.52122760e+00,  2.91417837e-02,  1.49340796e+00],\n",
       "       [ 5.29798269e-02, -1.31286740e-01,  2.93860316e+00],\n",
       "       [ 1.10281241e+00,  1.94137812e-01, -2.35696579e-03],\n",
       "       [-5.96833182e-03, -1.34313866e-01,  2.57123566e+00],\n",
       "       [ 2.42493582e+00,  1.50094056e+00, -1.24346316e-01],\n",
       "       [ 1.55945170e+00, -1.61907092e-01,  6.30170286e-01],\n",
       "       [-1.06112495e-01, -1.20516494e-01,  2.02029324e+00],\n",
       "       [ 2.58848095e+00, -1.61680177e-01,  1.06704414e+00],\n",
       "       [ 1.28659987e+00, -2.29776770e-01,  1.91619563e+00],\n",
       "       [ 2.39081144e-01,  5.65066159e-01,  4.37282681e-01]], dtype=float32)"
      ]
     },
     "execution_count": 36,
     "metadata": {},
     "output_type": "execute_result"
    }
   ],
   "source": [
    "ypred[0:20]"
   ]
  },
  {
   "cell_type": "code",
   "execution_count": 37,
   "id": "48f18e6b-5a88-45b8-93af-a9dfbae859e2",
   "metadata": {},
   "outputs": [
    {
     "data": {
      "text/plain": [
       "array([0., 0., 0., ..., 0., 2., 2.], dtype=float32)"
      ]
     },
     "execution_count": 37,
     "metadata": {},
     "output_type": "execute_result"
    }
   ],
   "source": [
    "y_pred_around1 = np.clip(np.around(ypred)[:, 0], 0, 3)\n",
    "y_pred_around1\n",
    "\n",
    "y_pred_around2 = np.clip(np.around(ypred)[:, 1], 0, 3)\n",
    "y_pred_around2\n",
    "\n",
    "y_pred_around3 = np.clip(np.around(ypred)[:, 2], 0, 4)\n",
    "y_pred_around3"
   ]
  },
  {
   "cell_type": "code",
   "execution_count": 38,
   "id": "01011fea-472b-4ddd-8e98-6b1a904e9c3e",
   "metadata": {
    "tags": []
   },
   "outputs": [],
   "source": [
    "def inverse_multilabeling(y1, y2, y3):\n",
    "  y1 = int(y1)\n",
    "  y2 = int(y2)\n",
    "  y3 = int(y3)\n",
    "  if(y1 == 0 and y2 == 0 and y3 == 0):\n",
    "    return 0\n",
    "  if(y1 == 1 and y2 == 0 and y3 == 0):\n",
    "    return 1\n",
    "  if(y1 == 2 and y2 == 0 and y3 == 0):\n",
    "    return 2\n",
    "  if(y1 == 3 and y2 == 0 and y3 == 0):\n",
    "    return 3\n",
    "  if(y1 == 0 and y2 == 1 and y3 == 0):\n",
    "    return 4\n",
    "  if(y1 == 0 and y2 == 2 and y3 == 0):\n",
    "    return 5\n",
    "  if(y1 == 0 and y2 == 3 and y3 == 0):\n",
    "    return 6\n",
    "  if(y1 == 0 and y2 == 0 and y3 == 1):\n",
    "    return 7\n",
    "  if(y1 == 0 and y2 == 0 and y3 == 2):\n",
    "    return 8\n",
    "  if(y1 == 0 and y2 == 0 and y3 == 3):\n",
    "    return 9\n",
    "  if(y1 == 0 and y2 == 0 and y3 == 4):\n",
    "    return 10\n",
    "  if(y1 == 1 and y2 == 1 and y3 == 0):\n",
    "    return 11\n",
    "  if(y1 == 2 and y2 == 1 and y3 == 0):\n",
    "    return 12\n",
    "  if(y1 == 3 and y2 == 1 and y3 == 0):\n",
    "    return 13\n",
    "  if(y1 == 1 and y2 == 2 and y3 == 0):\n",
    "    return 14\n",
    "  if(y1 == 2 and y2 == 2 and y3 == 0):\n",
    "    return 15\n",
    "  if(y1 == 3 and y2 == 2 and y3 == 0):\n",
    "    return 16\n",
    "  if(y1 == 1 and y2 == 3 and y3 == 0):\n",
    "    return 17\n",
    "  if(y1 == 2 and y2 == 3 and y3 == 0):\n",
    "    return 18\n",
    "  if(y1 == 3 and y2 == 3 and y3 == 0):\n",
    "    return 19\n",
    "  if(y1 == 1 and y2 == 0 and y3 == 1):\n",
    "    return 20\n",
    "  if(y1 == 2 and y2 == 0 and y3 == 1):\n",
    "    return 21\n",
    "  if(y1 == 3 and y2 == 0 and y3 == 1):\n",
    "    return 22\n",
    "  if(y1 == 1 and y2 == 0 and y3 == 2):\n",
    "    return 23\n",
    "  if(y1 == 2 and y2 == 0 and y3 == 2):\n",
    "    return 24\n",
    "  if(y1 == 3 and y2 == 0 and y3 == 2):\n",
    "    return 25\n",
    "  if(y1 == 1 and y2 == 0 and y3 == 3):\n",
    "    return 26\n",
    "  if(y1 == 2 and y2 == 0 and y3 == 3):\n",
    "    return 27\n",
    "  if(y1 == 3 and y2 == 0 and y3 == 3):\n",
    "    return 28\n",
    "  if(y1 != 0 and y2 != 0 and y3 != 0):\n",
    "    print(\"Found 29\")\n",
    "    return 29\n",
    "  print(\"y1 : {}, y2 : {}, y3 : {}\".format(y1, y2, y3))\n",
    "  return 0\n"
   ]
  },
  {
   "cell_type": "code",
   "execution_count": null,
   "id": "d22c3d72-a7fe-45c4-b092-58ee5730d5d3",
   "metadata": {
    "tags": []
   },
   "outputs": [],
   "source": [
    "ymax = []\n",
    "for i in range(len(y_pred_around1)):\n",
    "  y1, y2, y3 = \"\", \"\", \"\"\n",
    "  y1 = y_pred_around1[i]\n",
    "  y2 = y_pred_around2[i]\n",
    "  y3 = y_pred_around3[i]\n",
    "  ymax.append(inverse_multilabeling(y1, y2, y3))"
   ]
  },
  {
   "cell_type": "code",
   "execution_count": 40,
   "id": "286fa7b2-5524-4a31-813f-a54c51a23bb7",
   "metadata": {},
   "outputs": [
    {
     "data": {
      "text/plain": [
       "(1800, 1800)"
      ]
     },
     "execution_count": 40,
     "metadata": {},
     "output_type": "execute_result"
    }
   ],
   "source": [
    "ids = []\n",
    "predicts = []\n",
    "for i in range(len(ymax)):\n",
    "    predicts.append(ymax[i])\n",
    "    ids.append(\"test_data{}.csv\".format(i))\n",
    "\n",
    "len(ids),len(predicts)"
   ]
  },
  {
   "cell_type": "code",
   "execution_count": 41,
   "id": "59778e66-87b9-4983-99cd-6ed7dc6bd07a",
   "metadata": {},
   "outputs": [
    {
     "data": {
      "text/html": [
       "<div>\n",
       "<style scoped>\n",
       "    .dataframe tbody tr th:only-of-type {\n",
       "        vertical-align: middle;\n",
       "    }\n",
       "\n",
       "    .dataframe tbody tr th {\n",
       "        vertical-align: top;\n",
       "    }\n",
       "\n",
       "    .dataframe thead th {\n",
       "        text-align: right;\n",
       "    }\n",
       "</style>\n",
       "<table border=\"1\" class=\"dataframe\">\n",
       "  <thead>\n",
       "    <tr style=\"text-align: right;\">\n",
       "      <th></th>\n",
       "      <th>filename</th>\n",
       "      <th>code</th>\n",
       "    </tr>\n",
       "  </thead>\n",
       "  <tbody>\n",
       "    <tr>\n",
       "      <th>0</th>\n",
       "      <td>test_data0.csv</td>\n",
       "      <td>0</td>\n",
       "    </tr>\n",
       "    <tr>\n",
       "      <th>1</th>\n",
       "      <td>test_data1.csv</td>\n",
       "      <td>12</td>\n",
       "    </tr>\n",
       "    <tr>\n",
       "      <th>2</th>\n",
       "      <td>test_data2.csv</td>\n",
       "      <td>13</td>\n",
       "    </tr>\n",
       "    <tr>\n",
       "      <th>3</th>\n",
       "      <td>test_data3.csv</td>\n",
       "      <td>1</td>\n",
       "    </tr>\n",
       "    <tr>\n",
       "      <th>4</th>\n",
       "      <td>test_data4.csv</td>\n",
       "      <td>27</td>\n",
       "    </tr>\n",
       "    <tr>\n",
       "      <th>...</th>\n",
       "      <td>...</td>\n",
       "      <td>...</td>\n",
       "    </tr>\n",
       "    <tr>\n",
       "      <th>1795</th>\n",
       "      <td>test_data1795.csv</td>\n",
       "      <td>0</td>\n",
       "    </tr>\n",
       "    <tr>\n",
       "      <th>1796</th>\n",
       "      <td>test_data1796.csv</td>\n",
       "      <td>11</td>\n",
       "    </tr>\n",
       "    <tr>\n",
       "      <th>1797</th>\n",
       "      <td>test_data1797.csv</td>\n",
       "      <td>6</td>\n",
       "    </tr>\n",
       "    <tr>\n",
       "      <th>1798</th>\n",
       "      <td>test_data1798.csv</td>\n",
       "      <td>23</td>\n",
       "    </tr>\n",
       "    <tr>\n",
       "      <th>1799</th>\n",
       "      <td>test_data1799.csv</td>\n",
       "      <td>8</td>\n",
       "    </tr>\n",
       "  </tbody>\n",
       "</table>\n",
       "<p>1800 rows × 2 columns</p>\n",
       "</div>"
      ],
      "text/plain": [
       "               filename  code\n",
       "0        test_data0.csv     0\n",
       "1        test_data1.csv    12\n",
       "2        test_data2.csv    13\n",
       "3        test_data3.csv     1\n",
       "4        test_data4.csv    27\n",
       "...                 ...   ...\n",
       "1795  test_data1795.csv     0\n",
       "1796  test_data1796.csv    11\n",
       "1797  test_data1797.csv     6\n",
       "1798  test_data1798.csv    23\n",
       "1799  test_data1799.csv     8\n",
       "\n",
       "[1800 rows x 2 columns]"
      ]
     },
     "execution_count": 41,
     "metadata": {},
     "output_type": "execute_result"
    }
   ],
   "source": [
    "import pandas as pd\n",
    "\n",
    "df = pd.DataFrame(data={'filename':ids,'code': predicts})\n",
    "df"
   ]
  },
  {
   "cell_type": "code",
   "execution_count": 42,
   "id": "f5f33fb1-cad5-4a41-be91-eaa573602157",
   "metadata": {
    "tags": []
   },
   "outputs": [
    {
     "data": {
      "text/plain": [
       "9     165\n",
       "27    147\n",
       "23    112\n",
       "26    111\n",
       "0     109\n",
       "7     100\n",
       "12     95\n",
       "24     94\n",
       "1      73\n",
       "4      73\n",
       "8      70\n",
       "2      60\n",
       "20     56\n",
       "15     52\n",
       "21     52\n",
       "17     50\n",
       "14     42\n",
       "11     40\n",
       "18     39\n",
       "5      37\n",
       "29     34\n",
       "6      34\n",
       "28     25\n",
       "25     25\n",
       "10     24\n",
       "13     19\n",
       "3      18\n",
       "16     17\n",
       "22     16\n",
       "19     11\n",
       "Name: code, dtype: int64"
      ]
     },
     "execution_count": 42,
     "metadata": {},
     "output_type": "execute_result"
    }
   ],
   "source": [
    "df.code.value_counts()"
   ]
  },
  {
   "cell_type": "code",
   "execution_count": 30,
   "id": "cfaa576a-d39e-4836-9941-541d19708e17",
   "metadata": {},
   "outputs": [],
   "source": [
    "df.to_csv('MoreDense_Raw_L12_FinalTest_elu_Conv1D_MultiClass.csv', index=False)"
   ]
  },
  {
   "cell_type": "code",
   "execution_count": 73,
   "id": "3c8a8500-41c8-4310-b28c-319125ca65c6",
   "metadata": {},
   "outputs": [
    {
     "data": {
      "text/plain": [
       "Int64Index([ 159,  205,  231,  369,  423,  446,  736,  860,  897,  957,  970,\n",
       "            1205, 1249, 1518, 1736, 1763],\n",
       "           dtype='int64')"
      ]
     },
     "execution_count": 73,
     "metadata": {},
     "output_type": "execute_result"
    }
   ],
   "source": [
    "idx = df[df['code']==29].index\n",
    "idx"
   ]
  },
  {
   "cell_type": "code",
   "execution_count": 70,
   "id": "5016b4f0-3a25-4ba4-b8fc-37f653da294d",
   "metadata": {},
   "outputs": [
    {
     "data": {
      "text/html": [
       "<div>\n",
       "<style scoped>\n",
       "    .dataframe tbody tr th:only-of-type {\n",
       "        vertical-align: middle;\n",
       "    }\n",
       "\n",
       "    .dataframe tbody tr th {\n",
       "        vertical-align: top;\n",
       "    }\n",
       "\n",
       "    .dataframe thead th {\n",
       "        text-align: right;\n",
       "    }\n",
       "</style>\n",
       "<table border=\"1\" class=\"dataframe\">\n",
       "  <thead>\n",
       "    <tr style=\"text-align: right;\">\n",
       "      <th></th>\n",
       "      <th>filename</th>\n",
       "      <th>code</th>\n",
       "    </tr>\n",
       "  </thead>\n",
       "  <tbody>\n",
       "    <tr>\n",
       "      <th>0</th>\n",
       "      <td>test_data0.csv</td>\n",
       "      <td>0</td>\n",
       "    </tr>\n",
       "    <tr>\n",
       "      <th>1</th>\n",
       "      <td>test_data1.csv</td>\n",
       "      <td>18</td>\n",
       "    </tr>\n",
       "    <tr>\n",
       "      <th>2</th>\n",
       "      <td>test_data2.csv</td>\n",
       "      <td>13</td>\n",
       "    </tr>\n",
       "    <tr>\n",
       "      <th>3</th>\n",
       "      <td>test_data3.csv</td>\n",
       "      <td>1</td>\n",
       "    </tr>\n",
       "    <tr>\n",
       "      <th>4</th>\n",
       "      <td>test_data4.csv</td>\n",
       "      <td>27</td>\n",
       "    </tr>\n",
       "    <tr>\n",
       "      <th>...</th>\n",
       "      <td>...</td>\n",
       "      <td>...</td>\n",
       "    </tr>\n",
       "    <tr>\n",
       "      <th>1795</th>\n",
       "      <td>test_data1795.csv</td>\n",
       "      <td>0</td>\n",
       "    </tr>\n",
       "    <tr>\n",
       "      <th>1796</th>\n",
       "      <td>test_data1796.csv</td>\n",
       "      <td>9</td>\n",
       "    </tr>\n",
       "    <tr>\n",
       "      <th>1797</th>\n",
       "      <td>test_data1797.csv</td>\n",
       "      <td>11</td>\n",
       "    </tr>\n",
       "    <tr>\n",
       "      <th>1798</th>\n",
       "      <td>test_data1798.csv</td>\n",
       "      <td>23</td>\n",
       "    </tr>\n",
       "    <tr>\n",
       "      <th>1799</th>\n",
       "      <td>test_data1799.csv</td>\n",
       "      <td>26</td>\n",
       "    </tr>\n",
       "  </tbody>\n",
       "</table>\n",
       "<p>1800 rows × 2 columns</p>\n",
       "</div>"
      ],
      "text/plain": [
       "               filename  code\n",
       "0        test_data0.csv     0\n",
       "1        test_data1.csv    18\n",
       "2        test_data2.csv    13\n",
       "3        test_data3.csv     1\n",
       "4        test_data4.csv    27\n",
       "...                 ...   ...\n",
       "1795  test_data1795.csv     0\n",
       "1796  test_data1796.csv     9\n",
       "1797  test_data1797.csv    11\n",
       "1798  test_data1798.csv    23\n",
       "1799  test_data1799.csv    26\n",
       "\n",
       "[1800 rows x 2 columns]"
      ]
     },
     "execution_count": 70,
     "metadata": {},
     "output_type": "execute_result"
    }
   ],
   "source": [
    "Non_df = pd.read_csv('../data/Non/CNN_denoise_1.csv')\n",
    "Non_df"
   ]
  },
  {
   "cell_type": "code",
   "execution_count": 74,
   "id": "03002615-3391-4ea1-a43e-cf8ae1dfa21b",
   "metadata": {},
   "outputs": [
    {
     "name": "stderr",
     "output_type": "stream",
     "text": [
      "/tmp/ipykernel_18487/2976816564.py:1: SettingWithCopyWarning: \n",
      "A value is trying to be set on a copy of a slice from a DataFrame\n",
      "\n",
      "See the caveats in the documentation: https://pandas.pydata.org/pandas-docs/stable/user_guide/indexing.html#returning-a-view-versus-a-copy\n",
      "  bank_df['code'][idx] = 29\n"
     ]
    }
   ],
   "source": [
    "Non_df['code'][idx] = 29"
   ]
  },
  {
   "cell_type": "code",
   "execution_count": 75,
   "id": "ed16769c-1d61-4170-a7c1-bf9da0b17d6c",
   "metadata": {},
   "outputs": [
    {
     "data": {
      "text/plain": [
       "Int64Index([ 159,  205,  231,  369,  423,  446,  736,  860,  897,  957,  970,\n",
       "            1205, 1249, 1518, 1736, 1763],\n",
       "           dtype='int64')"
      ]
     },
     "execution_count": 75,
     "metadata": {},
     "output_type": "execute_result"
    }
   ],
   "source": [
    "Non_df[Non_df['code']==29].index"
   ]
  },
  {
   "cell_type": "code",
   "execution_count": 78,
   "id": "71cddff7-76ac-41e4-a1cd-d06eb51f210c",
   "metadata": {},
   "outputs": [],
   "source": [
    "Non_df.to_csv(\"Non_All_class_Multilabel.csv\", index = False)"
   ]
  }
 ],
 "metadata": {
  "kernelspec": {
   "display_name": "Python 3 (ipykernel)",
   "language": "python",
   "name": "python3"
  },
  "language_info": {
   "codemirror_mode": {
    "name": "ipython",
    "version": 3
   },
   "file_extension": ".py",
   "mimetype": "text/x-python",
   "name": "python",
   "nbconvert_exporter": "python",
   "pygments_lexer": "ipython3",
   "version": "3.9.7"
  }
 },
 "nbformat": 4,
 "nbformat_minor": 5
}
